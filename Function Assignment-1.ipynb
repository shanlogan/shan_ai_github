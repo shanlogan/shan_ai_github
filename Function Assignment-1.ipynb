{
 "cells": [
  {
   "cell_type": "code",
   "execution_count": null,
   "metadata": {},
   "outputs": [],
   "source": [
    "def subfields():\n",
    "    subfields=input(\"subfields in AI are:\")\n",
    "    print(\"Machine Learning\")\n",
    "    sub=\"Machine Learning\"\n",
    "    print(\"Neural Networking\")\n",
    "    sub=\"Neural Networking\"\n",
    "    print(\"Vision\")\n",
    "    sub=\"Vision\"\n",
    "    print(\"Robotics\")\n",
    "    sub=\"Robotics\"\n",
    "    print(\"Speech processing\")\n",
    "    sub=\"Speech processing\"\n",
    "    print(\"Natural Language Processing\")\n",
    "    sub=\"Natural Language Processing\"\n",
    "   \n"
   ]
  },
  {
   "cell_type": "code",
   "execution_count": null,
   "metadata": {},
   "outputs": [],
   "source": [
    "subfields()"
   ]
  },
  {
   "cell_type": "code",
   "execution_count": null,
   "metadata": {},
   "outputs": [],
   "source": [
    "    num=int(input(\"Enter the number:\"))\n",
    "    if(num%2==1):\n",
    "        print(\"odd number\")\n",
    "    else:\n",
    "        print(str(num)+\" is even number\")"
   ]
  },
  {
   "cell_type": "code",
   "execution_count": null,
   "metadata": {},
   "outputs": [],
   "source": [
    "def oddeven():\n",
    "    num=int(input(\"Enter the number:\"))\n",
    "    if(num%2==1):\n",
    "        print(\"odd number\")\n",
    "    else:\n",
    "        print(str(num)+\" is even number\")"
   ]
  },
  {
   "cell_type": "code",
   "execution_count": null,
   "metadata": {},
   "outputs": [],
   "source": [
    "oddeven()"
   ]
  },
  {
   "cell_type": "code",
   "execution_count": null,
   "metadata": {},
   "outputs": [],
   "source": [
    "    gender =input(\"Your gender:\")\n",
    "    age = int(input(\"Your age:\"))\n",
    "    if(age <= 18 ):\n",
    "        if(gender == \"male\"):\n",
    "            print(\"NOT ELIGIBLE\")\n",
    "    else:\n",
    "        print(\"ELIGIBLE\")"
   ]
  },
  {
   "cell_type": "code",
   "execution_count": 3,
   "metadata": {},
   "outputs": [],
   "source": [
    "def Marriage_Elegible():\n",
    "    gender =input(\"Your gender:\")\n",
    "    age = int(input(\"Your age:\"))\n",
    "    if(age <= 21 ):\n",
    "        if(gender == \"male\"):\n",
    "            print(\"NOT ELIGIBLE\")\n",
    "    else:\n",
    "        print(\"ELIGIBLE\")"
   ]
  },
  {
   "cell_type": "code",
   "execution_count": 4,
   "metadata": {},
   "outputs": [
    {
     "name": "stdout",
     "output_type": "stream",
     "text": [
      "Your gender:male\n",
      "Your age:20\n",
      "NOT ELIGIBLE\n"
     ]
    }
   ],
   "source": [
    "Marriage_Elegible()"
   ]
  },
  {
   "cell_type": "code",
   "execution_count": null,
   "metadata": {},
   "outputs": [],
   "source": [
    "sub1=int(input(\"subject1=\"))\n",
    "sub2=int(input(\"subject2=\"))\n",
    "sub3=int(input(\"subject3=\"))\n",
    "sub4=int(input(\"subject4=\"))\n",
    "sub5=int(input(\"subject5=\"))\n",
    "Total=sub1+sub2+sub3+sub4+sub5\n",
    "print(\"Total:\",Total)\n",
    "Percentage=Total/5\n",
    "print(\"Percentage:\",Percentage)  \n",
    "    "
   ]
  },
  {
   "cell_type": "code",
   "execution_count": null,
   "metadata": {},
   "outputs": [],
   "source": [
    "def Percentage():\n",
    "    sub1=int(input(\"subject1=\"))\n",
    "    sub2=int(input(\"subject2=\"))\n",
    "    sub3=int(input(\"subject3=\"))\n",
    "    sub4=int(input(\"subject4=\"))\n",
    "    sub5=int(input(\"subject5=\"))\n",
    "    Total=sub1+sub2+sub3+sub4+sub5\n",
    "    print(\"Total:\",Total)\n",
    "    Percentage=Total/5\n",
    "    print(\"Percentage:\",Percentage) \n",
    "    \n",
    "    "
   ]
  },
  {
   "cell_type": "code",
   "execution_count": null,
   "metadata": {},
   "outputs": [],
   "source": [
    "Percentage()"
   ]
  },
  {
   "cell_type": "code",
   "execution_count": null,
   "metadata": {},
   "outputs": [],
   "source": [
    "def Triangle():\n",
    "    Height=int(input(\"Height:\"))\n",
    "    Breadth=int(input(\"Breadth:\"))\n",
    "    Area=(Height*Breadth)/2\n",
    "    print(\"Area formula=(Height*Breadth)/2\")\n",
    "    print(\"Area of Tringle:\",Area)\n",
    "    Height1=int(input(\"Height1:\"))\n",
    "    Height2=int(input(\"Height2:\"))\n",
    "    Breadth=int(input(\"Breadth:\"))\n",
    "    Perimeter=Height1+Height2+Breadth\n",
    "    print(\"Perimeter formula=height1+Height2+Breadth\")\n",
    "    print(\"Perimeter of Tringle:\",Perimeter)\n"
   ]
  },
  {
   "cell_type": "code",
   "execution_count": null,
   "metadata": {},
   "outputs": [],
   "source": [
    "Triangle()"
   ]
  },
  {
   "cell_type": "code",
   "execution_count": null,
   "metadata": {},
   "outputs": [],
   "source": [
    "def Triangle():\n",
    "    Height=int(input(\"Height:\"))\n",
    "    Breadth=int(input(\"Breadth:\"))\n",
    "    Area=(Height*Breadth)/2\n",
    "    print(\"Area formula=(Height*Breadth)/2\")\n",
    "    print(\"Area of Tringle:\",Area)\n",
    "    Height1=int(input(\"Height1:\"))\n",
    "    Height2=int(input(\"Height2:\"))\n",
    "    Breadth=int(input(\"Breadth:\"))\n",
    "    Perimeter=Height1+Height2+Breadth\n",
    "    print(\"Perimeter formula=height1+Height2+Breadth\")\n",
    "    print(\"Perimeter of Tringle:\",Perimeter)"
   ]
  },
  {
   "cell_type": "code",
   "execution_count": null,
   "metadata": {},
   "outputs": [],
   "source": [
    "Tri=Triangle()"
   ]
  },
  {
   "cell_type": "code",
   "execution_count": null,
   "metadata": {},
   "outputs": [],
   "source": []
  }
 ],
 "metadata": {
  "kernelspec": {
   "display_name": "Python 3",
   "language": "python",
   "name": "python3"
  },
  "language_info": {
   "codemirror_mode": {
    "name": "ipython",
    "version": 3
   },
   "file_extension": ".py",
   "mimetype": "text/x-python",
   "name": "python",
   "nbconvert_exporter": "python",
   "pygments_lexer": "ipython3",
   "version": "3.7.4"
  }
 },
 "nbformat": 4,
 "nbformat_minor": 2
}
